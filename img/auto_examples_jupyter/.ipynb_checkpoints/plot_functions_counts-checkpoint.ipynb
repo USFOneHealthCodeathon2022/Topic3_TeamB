{
 "cells": [
  {
   "cell_type": "code",
   "execution_count": null,
   "metadata": {},
   "outputs": [],
   "source": [
    "%matplotlib inline"
   ]
  },
  {
   "cell_type": "markdown",
   "metadata": {},
   "source": [
    "\n",
    "# Counts with Functions\n",
    "\n",
    "Collect word co-occurrence data, using a function oriented approach.\n"
   ]
  },
  {
   "cell_type": "markdown",
   "metadata": {},
   "source": [
    "## Function Approach: collect_counts\n",
    "\n",
    "The function for collecting co-occurrence data is :func:`~.collect_counts`.\n",
    "\n",
    "Given a list of search terms, this function handles all the requests to collect the data.\n",
    "\n",
    "\n"
   ]
  },
  {
   "cell_type": "code",
   "execution_count": 1,
   "metadata": {},
   "outputs": [],
   "source": [
    "# Import function to collect data, and helper functions to analyze co-occurrence data\n",
    "from lisc.collect import collect_counts\n",
    "from lisc.analysis.counts import compute_normalization, compute_association_index"
   ]
  },
  {
   "cell_type": "code",
   "execution_count": 2,
   "metadata": {},
   "outputs": [],
   "source": [
    "# Set some terms to search for\n",
    "terms_a = [['protein'], ['gene']]\n",
    "terms_b = [['heart'], ['lung']]"
   ]
  },
  {
   "cell_type": "code",
   "execution_count": 3,
   "metadata": {},
   "outputs": [
    {
     "name": "stdout",
     "output_type": "stream",
     "text": [
      "Running counts for:  protein\n",
      "Running counts for:  gene\n"
     ]
    }
   ],
   "source": [
    "# Collect co-occurrence data across a single list of terms\n",
    "coocs, term_counts, meta_dat = collect_counts(terms_a, db='pubmed', verbose=True)"
   ]
  },
  {
   "cell_type": "code",
   "execution_count": 4,
   "metadata": {},
   "outputs": [
    {
     "name": "stdout",
     "output_type": "stream",
     "text": [
      "[[     0 604943]\n",
      " [604943      0]]\n"
     ]
    }
   ],
   "source": [
    "# Check how many articles were found for each combination\n",
    "print(coocs)"
   ]
  },
  {
   "cell_type": "code",
   "execution_count": 5,
   "metadata": {},
   "outputs": [
    {
     "name": "stdout",
     "output_type": "stream",
     "text": [
      "protein      : 2729428\n",
      "gene         : 1877136\n"
     ]
    }
   ],
   "source": [
    "# Print out how many articles found for each term\n",
    "for term, count in zip(terms_a, term_counts):\n",
    "    print('{:12} : {}'.format(term[0], count))"
   ]
  },
  {
   "cell_type": "markdown",
   "metadata": {},
   "source": [
    "When given a single set of terms, the function collects counts of each term\n",
    "against every other term in the list.\n",
    "\n",
    "You can also specify different sets of terms to collect. In the example below,\n",
    "each term in list A is collected measuring co-occurrences with each term in list B.\n",
    "\n",
    "\n"
   ]
  },
  {
   "cell_type": "code",
   "execution_count": 6,
   "metadata": {},
   "outputs": [
    {
     "name": "stdout",
     "output_type": "stream",
     "text": [
      "Running counts for:  protein\n",
      "Running counts for:  gene\n"
     ]
    }
   ],
   "source": [
    "# Collect co-occurrence data across two different lists of terms\n",
    "coocs, term_counts, meta_dat = collect_counts(\n",
    "    terms_a=terms_a, terms_b=terms_b, db='pubmed', verbose=True)"
   ]
  },
  {
   "cell_type": "markdown",
   "metadata": {},
   "source": [
    "## Calculating Co-occurrence Scores\n",
    "\n",
    "Once co-occurrence data has been collected, we often want to compute a normalization\n",
    "or transform of the data.\n",
    "\n",
    "The :func:`~.compute_normalization`, :func:`~.compute_association_index`\n",
    "and :func:`~.compute_similarity` functions take in co-occurrence data as returned\n",
    "by the :func:`~.collect_counts` function.\n",
    "\n",
    "More details on the measures available in LISC are available in the :class:`~.Counts`\n",
    "tutorial. When using the functions approach, all implemented scores and transforms\n",
    "are available in `lisc.analysis`.\n",
    "\n",
    "\n"
   ]
  },
  {
   "cell_type": "code",
   "execution_count": null,
   "metadata": {},
   "outputs": [],
   "source": [
    "# Calculate the normalized data measure, normalizing the co-occurrences by the term counts\n",
    "normed_coocs = compute_normalization(coocs, term_counts[0], dim='A')\n",
    "\n",
    "# Check the computed score measure for the co-occurrence collection\n",
    "print(normed_coocs)"
   ]
  },
  {
   "cell_type": "code",
   "execution_count": null,
   "metadata": {},
   "outputs": [],
   "source": [
    "# Compute the association index score, calculating the Jaccard index from the co-occurrences\n",
    "score = compute_association_index(coocs, term_counts[0], term_counts[1])\n",
    "\n",
    "# Check the computed score measure for the co-occurrence collection\n",
    "print(score)"
   ]
  },
  {
   "cell_type": "markdown",
   "metadata": {},
   "source": [
    "From here, further analysis of collected co-occurrence data depends on the goal of the analysis.\n",
    "\n",
    "There are also plot functions available, as demonstrated in the Counts tutorial.\n",
    "\n",
    "\n"
   ]
  }
 ],
 "metadata": {
  "kernelspec": {
   "display_name": "Python 3 (ipykernel)",
   "language": "python",
   "name": "python3"
  },
  "language_info": {
   "codemirror_mode": {
    "name": "ipython",
    "version": 3
   },
   "file_extension": ".py",
   "mimetype": "text/x-python",
   "name": "python",
   "nbconvert_exporter": "python",
   "pygments_lexer": "ipython3",
   "version": "3.9.8"
  }
 },
 "nbformat": 4,
 "nbformat_minor": 1
}
