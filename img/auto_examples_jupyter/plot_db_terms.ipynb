{
 "cells": [
  {
   "cell_type": "code",
   "execution_count": null,
   "metadata": {},
   "outputs": [],
   "source": [
    "%matplotlib inline"
   ]
  },
  {
   "cell_type": "markdown",
   "metadata": {},
   "source": [
    "\n",
    "# Database and Terms Lists\n",
    "\n",
    "Exploring the LISC database, and using search terms loaded from files.\n"
   ]
  },
  {
   "cell_type": "code",
   "execution_count": 1,
   "metadata": {},
   "outputs": [],
   "source": [
    "# Import a function to create a LISC database file structure\n",
    "from lisc.utils.db import create_file_structure"
   ]
  },
  {
   "cell_type": "markdown",
   "metadata": {},
   "source": [
    "## SCDB Database Structure\n",
    "\n",
    "LISC provides and uses a custom directory structure.\n",
    "\n",
    "If you want to store terms definitions and data, these files can be put into a LISC\n",
    "database structure, and then relevant functions and objects will be able to load and\n",
    "use these files.\n",
    "\n",
    "LISC also uses a database object, :class:`~.SCDB`, to manage these databases.\n",
    "\n",
    "You can create a database structure using the :func:`~.create_file_structure` function.\n",
    "When you call this function, a :class:`~.SCDB` object is returned, that describes\n",
    "the built database structure.\n",
    "\n",
    "\n"
   ]
  },
  {
   "cell_type": "code",
   "execution_count": 2,
   "metadata": {},
   "outputs": [],
   "source": [
    "# Create a database file structure\n",
    "#   When called without a path input, the folder structure is created in the current directory\n",
    "db = create_file_structure()"
   ]
  },
  {
   "cell_type": "markdown",
   "metadata": {},
   "source": [
    "## Storing Terms in Text Files\n",
    "\n",
    "Here we will explore using files to store terms to use for LISC collections.\n",
    "\n",
    "The typical use case would be to curate and write text files manually.\n",
    "\n",
    "For demonstration here, we will first programmatically create an example\n",
    "txt file of terms to use.\n",
    "\n",
    "\n"
   ]
  },
  {
   "cell_type": "code",
   "execution_count": 3,
   "metadata": {},
   "outputs": [],
   "source": [
    "# Set some terms file\n",
    "terms = [['brain', 'cortex'], ['body', 'corporeal']]\n",
    "\n",
    "# Save the terms out to a txt file\n",
    "with open(db.get_file_path('terms', 'terms.txt'), 'w') as term_file:\n",
    "    for term in terms:\n",
    "        term_file.write(','.join(term))\n",
    "        term_file.write('\\n')"
   ]
  },
  {
   "cell_type": "code",
   "execution_count": 4,
   "metadata": {},
   "outputs": [
    {
     "name": "stdout",
     "output_type": "stream",
     "text": [
      "lisc_db/\n",
      "    terms/\n",
      "        terms.txt\n",
      "    logs/\n",
      "    figures/\n",
      "    data/\n",
      "        words/\n",
      "            raw/\n",
      "            summary/\n",
      "        counts/\n"
     ]
    }
   ],
   "source": [
    "# Check the file structure for the created database\n",
    "db.check_file_structure()"
   ]
  },
  {
   "cell_type": "code",
   "execution_count": 5,
   "metadata": {},
   "outputs": [
    {
     "name": "stdout",
     "output_type": "stream",
     "text": [
      "['terms.txt']\n"
     ]
    }
   ],
   "source": [
    "# Get a list of all files available in the 'terms' folder\n",
    "term_files = db.get_files('terms')\n",
    "print(term_files)"
   ]
  },
  {
   "cell_type": "code",
   "execution_count": 6,
   "metadata": {},
   "outputs": [
    {
     "data": {
      "text/plain": [
       "'/Users/kctan/Documents/GitHub/Group Projects/2022 Health Codeathon/auto_examples_jupyter/lisc_db/terms/terms.txt'"
      ]
     },
     "execution_count": 6,
     "metadata": {},
     "output_type": "execute_result"
    }
   ],
   "source": [
    "# Get the full file path for the terms file\n",
    "db.get_file_path('terms', 'terms.txt')"
   ]
  },
  {
   "cell_type": "markdown",
   "metadata": {},
   "source": [
    "## Term File Structure\n",
    "\n",
    "For term files, each line should reflect a new term, with synonyms for the same term\n",
    "stored as comma-separated values on the same line.\n",
    "\n",
    "\n"
   ]
  },
  {
   "cell_type": "code",
   "execution_count": 7,
   "metadata": {},
   "outputs": [
    {
     "name": "stdout",
     "output_type": "stream",
     "text": [
      "brain,cortex\n",
      "body,corporeal\n",
      "\n"
     ]
    }
   ],
   "source": [
    "# Check out the terms file contents\n",
    "with open(db.get_file_path('terms', 'terms.txt'), 'r') as term_file:\n",
    "    print(term_file.read())"
   ]
  },
  {
   "cell_type": "markdown",
   "metadata": {},
   "source": [
    "## Loading Terms from File\n",
    "\n",
    "Text files of Terms can be loaded and used with LISC objects, such as\n",
    ":class:`~.Counts` and :class:`~.Words`.\n",
    "\n",
    "For a general example, here we will use the underlying :class:`~.Base` object.\n",
    "\n",
    "\n"
   ]
  },
  {
   "cell_type": "code",
   "execution_count": 8,
   "metadata": {},
   "outputs": [],
   "source": [
    "# Load the base object in LISC\n",
    "from lisc.objects.base import Base"
   ]
  },
  {
   "cell_type": "code",
   "execution_count": 9,
   "metadata": {},
   "outputs": [],
   "source": [
    "# Initialize a base LISC object\n",
    "base = Base()\n",
    "\n",
    "# Add terms to object, loading from file\n",
    "base.add_terms('terms.txt', directory=db)"
   ]
  },
  {
   "cell_type": "code",
   "execution_count": 10,
   "metadata": {},
   "outputs": [
    {
     "name": "stdout",
     "output_type": "stream",
     "text": [
      "List of terms used: \n",
      "\n",
      "brain  : brain, cortex\n",
      "body   : body, corporeal\n",
      "       : \n"
     ]
    }
   ],
   "source": [
    "# Check the terms that were loaded from file\n",
    "base.check_terms()"
   ]
  },
  {
   "cell_type": "markdown",
   "metadata": {},
   "source": [
    "The same structure can be used to store exclusion and inclusion words for terms.\n",
    "\n",
    "Exclusion and inclusions words should be stored in their own text files, also\n",
    "using one line per term, with comma-separated values for synonyms.\n",
    "\n",
    "Files that reflect the same set of terms, with a file for search terms, and optionally\n",
    "associated files for inclusion and exclusion terms should have the same number of lines,\n",
    "and the n-th line of each file should refer to the same term. If a given search\n",
    "term does not have an associated inclusion or exclusion term, leave that line blank.\n",
    "\n",
    "\n"
   ]
  }
 ],
 "metadata": {
  "kernelspec": {
   "display_name": "Python 3 (ipykernel)",
   "language": "python",
   "name": "python3"
  },
  "language_info": {
   "codemirror_mode": {
    "name": "ipython",
    "version": 3
   },
   "file_extension": ".py",
   "mimetype": "text/x-python",
   "name": "python",
   "nbconvert_exporter": "python",
   "pygments_lexer": "ipython3",
   "version": "3.9.8"
  }
 },
 "nbformat": 4,
 "nbformat_minor": 1
}
