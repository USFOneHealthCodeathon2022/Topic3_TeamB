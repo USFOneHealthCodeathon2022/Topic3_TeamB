{
 "cells": [
  {
   "cell_type": "code",
   "execution_count": null,
   "metadata": {},
   "outputs": [],
   "source": [
    "%matplotlib inline"
   ]
  },
  {
   "cell_type": "markdown",
   "metadata": {},
   "source": [
    "\n",
    "# URLs and Requests\n",
    "\n",
    "Explore LISC utilities for managing URLs and requests.\n"
   ]
  },
  {
   "cell_type": "markdown",
   "metadata": {},
   "source": [
    "## URLs & Requests\n",
    "\n",
    "LISC uses custom objects to manage URLs and launch requests. These can be used to\n",
    "define how to interact with APIs of interest.\n",
    "\n",
    "For the main LISC functionality, you don't have to deal with these objects directly.\n",
    "They are used 'under the hood' by LISC functions for collecting data and interacting with\n",
    "APIs without requiring direct user interaction.\n",
    "\n",
    "In this example, we will explore using these objects directly, which may be useful for\n",
    "creating custom data collections, and/or to connect LISC with other APIs.\n",
    "\n",
    "\n"
   ]
  },
  {
   "cell_type": "code",
   "execution_count": 1,
   "metadata": {},
   "outputs": [],
   "source": [
    "# Import the requester object\n",
    "from lisc.requester import Requester"
   ]
  },
  {
   "cell_type": "markdown",
   "metadata": {},
   "source": [
    "### Requester Object\n",
    "\n",
    "The :class:`~.Requester` object uses the\n",
    "`requests <https://2.python-requests.org/>`_\n",
    "module to launch URL requests. It also adds some functionality such as throttling, to\n",
    "ensure requests respect API limits, as well as metadata collection and URL logging.\n",
    "\n",
    "\n"
   ]
  },
  {
   "cell_type": "code",
   "execution_count": null,
   "metadata": {},
   "outputs": [],
   "source": [
    "# Initialize a requester object\n",
    "req = Requester()"
   ]
  },
  {
   "cell_type": "code",
   "execution_count": null,
   "metadata": {},
   "outputs": [],
   "source": [
    "# Set the minimum wait time between requests\n",
    "req.set_wait_time(0.5)"
   ]
  },
  {
   "cell_type": "code",
   "execution_count": null,
   "metadata": {},
   "outputs": [],
   "source": [
    "# Use the Requester object to request some web pages\n",
    "for url in ['https://www.google.com', 'https://www.yahoo.com', 'https://duckduckgo.com']:\n",
    "    page = req.request_url(url)\n",
    "    print('Collecting web page \\t {} \\t got status code \\t {}'.format(page.url, page.status_code))"
   ]
  },
  {
   "cell_type": "code",
   "execution_count": null,
   "metadata": {},
   "outputs": [],
   "source": [
    "# Check details of the requester object\n",
    "req.check()"
   ]
  },
  {
   "cell_type": "code",
   "execution_count": null,
   "metadata": {},
   "outputs": [],
   "source": [
    "# Get information from the requester object as a dictionary\n",
    "print(req.as_dict())"
   ]
  },
  {
   "cell_type": "markdown",
   "metadata": {},
   "source": [
    "### URLs Object\n",
    "\n",
    "The :class:`~.URLs` object is used in LISC to store URLs used for interacting with APIs.\n",
    "\n",
    "It includes functionality for using different utilities available through an API,\n",
    "and for storing and using different settings that may be available.\n",
    "\n",
    "In this example, we will explore using the the URLs object to access the\n",
    "`duckduckgo <https://duckduckgo.com>`_ API.\n",
    "\n",
    "\n"
   ]
  },
  {
   "cell_type": "code",
   "execution_count": null,
   "metadata": {},
   "outputs": [],
   "source": [
    "# Import the URLs object\n",
    "from lisc.urls import URLs"
   ]
  },
  {
   "cell_type": "code",
   "execution_count": null,
   "metadata": {},
   "outputs": [],
   "source": [
    "# Set the base path for an API to use\n",
    "base_path = 'https://api.duckduckgo.com/'\n",
    "\n",
    "# Create the URLs object for the API, specifying it has a search utility\n",
    "urls = URLs(base_path, {'search' : ''})"
   ]
  },
  {
   "cell_type": "code",
   "execution_count": null,
   "metadata": {},
   "outputs": [],
   "source": [
    "# Build and check the search URL\n",
    "urls.build_url('search', settings={'format': 'json'})\n",
    "urls.check_url('search')"
   ]
  },
  {
   "cell_type": "code",
   "execution_count": null,
   "metadata": {},
   "outputs": [],
   "source": [
    "# Get the URL to launch a search request with a specified search term\n",
    "api_url = urls.get_url('search', settings={'q' : 'brain'})\n",
    "print(api_url)"
   ]
  },
  {
   "cell_type": "code",
   "execution_count": null,
   "metadata": {},
   "outputs": [],
   "source": [
    "# Request the URL with the requester object from before\n",
    "api_page = req.request_url(api_url)"
   ]
  },
  {
   "cell_type": "code",
   "execution_count": null,
   "metadata": {},
   "outputs": [],
   "source": [
    "# Check the source of the first search result\n",
    "api_page.json()['AbstractSource']"
   ]
  },
  {
   "cell_type": "markdown",
   "metadata": {},
   "source": [
    "### Supported APIs\n",
    "\n",
    "The :class:`~.URLs` object can be used to create objects that support external APIs.\n",
    "\n",
    "LISC currently supports APIs for\n",
    "`EUtils <https://www.ncbi.nlm.nih.gov/books/NBK25500/>`_ and\n",
    "`OpenCitations <https://opencitations.net>`_.\n",
    "\n",
    "These are implemented as custom objects which are built on top of the :class:`~.URLs` object.\n",
    "\n",
    "\n"
   ]
  },
  {
   "cell_type": "code",
   "execution_count": null,
   "metadata": {},
   "outputs": [],
   "source": [
    "# Import URL objects for supported APIs\n",
    "from lisc.urls import EUtils, OpenCitations"
   ]
  },
  {
   "cell_type": "code",
   "execution_count": null,
   "metadata": {},
   "outputs": [],
   "source": [
    "# Initialize EUtils API object\n",
    "eutils = EUtils()\n",
    "\n",
    "# Check what utilities are supported for the EUtils API\n",
    "print(eutils.utils)"
   ]
  },
  {
   "cell_type": "code",
   "execution_count": null,
   "metadata": {},
   "outputs": [],
   "source": [
    "# Initialize an OpenCitations API object\n",
    "citations = OpenCitations()\n",
    "\n",
    "# Check what utilities are supported for the OpenCitations API\n",
    "print(citations.utils)"
   ]
  },
  {
   "cell_type": "markdown",
   "metadata": {},
   "source": [
    "### Adding New APIs\n",
    "\n",
    "The `EUtils` and `OpenCitations` objects can be used as examples for potentially adding\n",
    "new APIs to LISC. New API objects can be created by inheriting from the `URLs` object,\n",
    "and added information on the utilities and settings available for that particular API.\n",
    "\n",
    "\n"
   ]
  }
 ],
 "metadata": {
  "kernelspec": {
   "display_name": "Python 3 (ipykernel)",
   "language": "python",
   "name": "python3"
  },
  "language_info": {
   "codemirror_mode": {
    "name": "ipython",
    "version": 3
   },
   "file_extension": ".py",
   "mimetype": "text/x-python",
   "name": "python",
   "nbconvert_exporter": "python",
   "pygments_lexer": "ipython3",
   "version": "3.9.8"
  }
 },
 "nbformat": 4,
 "nbformat_minor": 1
}
