{
 "cells": [
  {
   "cell_type": "code",
   "execution_count": null,
   "metadata": {},
   "outputs": [],
   "source": [
    "%matplotlib inline"
   ]
  },
  {
   "cell_type": "markdown",
   "metadata": {},
   "source": [
    "\n",
    "# Words with Functions\n",
    "\n",
    "Collect article text data and metadata, using a function oriented approach.\n"
   ]
  },
  {
   "cell_type": "markdown",
   "metadata": {},
   "source": [
    "## Function Approach: collect_words\n",
    "\n",
    "The function for collecting words data is :func:`~.collect_words`.\n",
    "\n",
    "Given a list of search terms, this function handles all the requests to collect the data.\n",
    "\n",
    "The parameters for `collect_words` are the same as described in the Words tutorial.\n",
    "\n",
    "Here we will briefly explore collecting data directly using the function approach.\n",
    "\n",
    "\n"
   ]
  },
  {
   "cell_type": "code",
   "execution_count": 1,
   "metadata": {},
   "outputs": [],
   "source": [
    "# Import the function to collect words data\n",
    "from lisc.collect import collect_words"
   ]
  },
  {
   "cell_type": "code",
   "execution_count": 2,
   "metadata": {},
   "outputs": [],
   "source": [
    "# Set some terms to search for\n",
    "terms = [['brain'], ['body']]"
   ]
  },
  {
   "cell_type": "code",
   "execution_count": 3,
   "metadata": {},
   "outputs": [
    {
     "name": "stdout",
     "output_type": "stream",
     "text": [
      "Collecting data for:  brain\n",
      "Collecting data for:  body\n"
     ]
    }
   ],
   "source": [
    "# Collect words data, setting to collect data for at most 5 articles per term\n",
    "results, meta_data = collect_words(terms, retmax=5, usehistory=False,\n",
    "                                   save_and_clear=False, verbose=True)"
   ]
  },
  {
   "cell_type": "code",
   "execution_count": 4,
   "metadata": {},
   "outputs": [
    {
     "data": {
      "text/plain": [
       "{'dbname': 'pubmed',\n",
       " 'menuname': 'PubMed',\n",
       " 'description': 'PubMed bibliographic record',\n",
       " 'dbbuild': 'Build220227-1348.3',\n",
       " 'count': '33755691',\n",
       " 'lastupdate': '2022/02/28 14:33'}"
      ]
     },
     "execution_count": 4,
     "metadata": {},
     "output_type": "execute_result"
    }
   ],
   "source": [
    "# The meta data includes some information on the database from which data was collected\n",
    "meta_data['db_info']"
   ]
  },
  {
   "cell_type": "code",
   "execution_count": 5,
   "metadata": {},
   "outputs": [
    {
     "name": "stdout",
     "output_type": "stream",
     "text": [
      "[<lisc.data.articles.Articles object at 0x10fe52520>, <lisc.data.articles.Articles object at 0x10ffc9e20>]\n"
     ]
    }
   ],
   "source": [
    "# The collected data is returned as a list of Articles objects\n",
    "print(results)"
   ]
  },
  {
   "cell_type": "code",
   "execution_count": 6,
   "metadata": {},
   "outputs": [],
   "source": [
    "# Each `Articles` object holds the data for the collected articles for a given term\n",
    "res1 = results[0]"
   ]
  },
  {
   "cell_type": "code",
   "execution_count": 7,
   "metadata": {},
   "outputs": [
    {
     "name": "stdout",
     "output_type": "stream",
     "text": [
      "5 \n",
      "\n",
      "Cucurbitacin B exerts neuroprotection in a murine Alzheimer's disease model by modulating oxidative stress, inflammation, and neurotransmitter levels.\n",
      "Fractal analysis in the quantification of medical imaging associated with multiple sclerosis pathology.\n",
      "A new injury severity scale for ocular complications following cosmetic filler injection.\n",
      "Objective predictors of delayed neurological sequelae in patients with altered mental status after carbon monoxide poisoning.\n",
      "Department of Defense positions on alternative uses of hyperbaric oxygen therapy. \n",
      "\n"
     ]
    }
   ],
   "source": [
    "# Print out some of the data\n",
    "print(res1.n_articles, '\\n')\n",
    "print('\\n'.join(res1.titles), '\\n')"
   ]
  },
  {
   "cell_type": "markdown",
   "metadata": {},
   "source": [
    "To further explore the collected data, check out the documentation for the\n",
    ":class:`~.Articles` object. To aggregate data across articles, check out the\n",
    ":class:`~.ArticlesAll` object.\n",
    "\n",
    "\n"
   ]
  }
 ],
 "metadata": {
  "kernelspec": {
   "display_name": "Python 3 (ipykernel)",
   "language": "python",
   "name": "python3"
  },
  "language_info": {
   "codemirror_mode": {
    "name": "ipython",
    "version": 3
   },
   "file_extension": ".py",
   "mimetype": "text/x-python",
   "name": "python",
   "nbconvert_exporter": "python",
   "pygments_lexer": "ipython3",
   "version": "3.9.8"
  }
 },
 "nbformat": 4,
 "nbformat_minor": 1
}
