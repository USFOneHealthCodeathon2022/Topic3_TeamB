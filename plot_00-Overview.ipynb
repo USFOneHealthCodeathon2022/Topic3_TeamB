{
 "cells": [
  {
   "cell_type": "code",
   "execution_count": null,
   "metadata": {},
   "outputs": [],
   "source": [
    "%matplotlib inline"
   ]
  },
  {
   "cell_type": "markdown",
   "metadata": {},
   "source": [
    "\n",
    "# Tutorial 00: LISC Overview\n",
    "\n",
    "An overview of the LISC code organization and approach.\n"
   ]
  },
  {
   "cell_type": "markdown",
   "metadata": {},
   "source": [
    "## LISC Overview\n",
    "\n",
    "LISC, or 'Literature Scanner', is a module for collecting and analyzing scientific literature.\n",
    "\n",
    "LISC serves mainly as a wrapper around available application programmer interfaces (APIs)\n",
    "that provide access to databases of scientific literature and related data.\n",
    "\n",
    "In this overview, we will first introduce LISC, including the overall code structure,\n",
    "and how the module handles search terms, data, files, and requests.\n",
    "\n",
    "\n"
   ]
  },
  {
   "cell_type": "markdown",
   "metadata": {},
   "source": [
    "### Available Analyses\n",
    "\n",
    "The utility of LISC is based on the APIs that it accesses.\n",
    "\n",
    "Currently supported external APIs include:\n",
    "\n",
    "- the NCBI `EUtils <https://www.ncbi.nlm.nih.gov/books/NBK25500/>`_ API,\n",
    "  which provides access to the Pubmed database\n",
    "- the `OpenCitations <https://opencitations.net>`_ API,\n",
    "  which provides access to citation data\n",
    "\n",
    "There are different ways to interact with these APIs, which each provide different data.\n",
    "\n",
    "Data collection and analysis approaches available through LISC include:\n",
    "\n",
    "EUtils:\n",
    "  - counts: collect word co-occurrence data, counting how often terms occur together\n",
    "  - words: collect text data and meta-data from scientific articles\n",
    "\n",
    "OpenCitations:\n",
    "  - citations: collect citation data and counts of citations to and from articles\n",
    "\n",
    "\n"
   ]
  },
  {
   "cell_type": "markdown",
   "metadata": {},
   "source": [
    "## LISC Objects\n",
    "\n",
    "LISC is object oriented, meaning it uses objects to handle search terms and collect data.\n",
    "\n",
    "We will first explore the :class:`~.Base` object, which is the underlying object that is\n",
    "used for data collection and analyses with EUtils.\n",
    "\n",
    "Note that you will typically not use the :class:`~.Base` object directly,\n",
    "but it is the base object for the :class:`~.Counts` and :class:`~.Words` objects\n",
    "that we will use later.\n",
    "\n",
    "\n"
   ]
  },
  {
   "cell_type": "code",
   "execution_count": 16,
   "metadata": {},
   "outputs": [],
   "source": [
    "# Import the Base object used in LISC\n",
    "from lisc.objects.base import Base"
   ]
  },
  {
   "cell_type": "code",
   "execution_count": 17,
   "metadata": {},
   "outputs": [],
   "source": [
    "# Initialize a base object\n",
    "base = Base()"
   ]
  },
  {
   "cell_type": "markdown",
   "metadata": {},
   "source": [
    "## Search Terms\n",
    "\n",
    "To collect scientific articles and associated data, we first need to define search terms\n",
    "of interest to find relevant literature.\n",
    "\n",
    "Search terms in LISC are organized as lists of strings. Each new search terms should\n",
    "be it's own list.\n",
    "\n",
    "By default, search terms are exact term matches, meaning results need to contain exact\n",
    "matches to the given search terms.\n",
    "\n",
    "Terms can be added to the object with the :meth:`~.Base.add_terms` method.\n",
    "\n",
    "\n"
   ]
  },
  {
   "cell_type": "code",
   "execution_count": 18,
   "metadata": {},
   "outputs": [],
   "source": [
    "# # Set some search terms of interest\n",
    "# terms = [['roundworm'], ['hookworm'], ['whipworm']]\n",
    "\n",
    "# # Add terms to the object\n",
    "# base.add_terms(terms)"
   ]
  },
  {
   "cell_type": "code",
   "execution_count": 19,
   "metadata": {},
   "outputs": [],
   "source": [
    "# # Check the terms added to the base object\n",
    "# base.check_terms()"
   ]
  },
  {
   "cell_type": "markdown",
   "metadata": {},
   "source": [
    "## Complex Search Terms\n",
    "\n",
    "So far, we have chosen some search terms, defined as single words, to use as queries,\n",
    "and added them to our object.\n",
    "\n",
    "Sometimes we might want more control than just using single words, in which case we might\n",
    "want to add synonyms and/or use include inclusions or exclusion words.\n",
    "\n",
    "### Synonyms\n",
    "\n",
    "To include synonyms, just add more entries to the input list of terms.\n",
    "\n",
    "Multiple strings within the same list are combined with the 'OR' operator. This means\n",
    "results will be returned if they include any of the given terms.\n",
    "\n",
    "For example, the set of search terms ['brain', 'cortex'] is interpreted as:\n",
    "'(\"brain\"OR\"cortex\")'.\n",
    "\n",
    "Being able to include synonyms is the reason each term entry is itself a list.\n",
    "\n",
    "### Inclusion & Exclusion Words\n",
    "\n",
    "Sometimes we might need to control the returned results, by specifically including\n",
    "or excluding certain topics or results. We can do so by adding 'inclusion' and/or\n",
    "'exclusion' words.\n",
    "\n",
    "Inclusions words are words that must also appear for a result to be returned.\n",
    "Inclusions words are combined with the 'AND' operator, meaning entries\n",
    "will only be included if they also include these words.\n",
    "\n",
    "For example, the search terms ['brain', 'cortex'] with the inclusion word ['biology']\n",
    "is interpreted as '(\"brain\"OR\"cortex\")AND(\"biology\")'.\n",
    "\n",
    "Exclusions words are words that must not be included in a result for it to be returned.\n",
    "Exclusion words are combined with the 'NOT' operator, meaning entries\n",
    "will be excluded if they include these terms.\n",
    "\n",
    "For example, the search terms ['brain', 'cortex'] with the exclusion word ['body']\n",
    "is interpreted as '(\"brain\"OR\"cortex\")NOT(\"body\")'.\n",
    "\n",
    "### Putting it all Together\n",
    "\n",
    "Synonyms, inclusion and exclusion words can all be used together.\n",
    "You can also specify synonyms for inclusion and exclusion words.\n",
    "\n",
    "For example, the following set of search term components:\n",
    "\n",
    "- search terms ['brain', 'cortex']\n",
    "- inclusion words ['biology', 'biochemistry']\n",
    "- exclusion words ['body', 'corporeal']\n",
    "\n",
    "All combine to give the search term of:\n",
    "\n",
    "- `'(\"brain\"OR\"cortex\")AND(\"biology\"OR\"biochemistry\")NOT(\"body\"OR\"corporeal\")'`\n",
    "\n",
    "Inclusion and exclusion words should be lists of the same length as the number of\n",
    "search terms. Each inclusion and exclusion term is used for the corresponding search\n",
    "term, matched by index. An empty list is used to indicate that there are no inclusions\n",
    "or exclusions words for a given search term.\n",
    "\n",
    "Now let's update our set of terms, to include some synonyms, inclusions and exclusions.\n",
    "\n",
    "\n"
   ]
  },
  {
   "cell_type": "code",
   "execution_count": 20,
   "metadata": {},
   "outputs": [],
   "source": [
    "# Set up a list of multiple terms, each with synonyms\n",
    "terms = [['roundworm','Ascaris lumbricoides', 'Ascariasis'], ['whipworm','Trichuris', 'trichiura'], \n",
    "         ['hookworm','Nector', 'americanus', 'Ancylostoma', 'duodenale']]\n",
    "\n",
    "# Add the terms to our object\n",
    "base.add_terms(terms)"
   ]
  },
  {
   "cell_type": "code",
   "execution_count": 21,
   "metadata": {},
   "outputs": [],
   "source": [
    "# Set up inclusions and exclusions\n",
    "#   Each is a list, that should be the same length as the number of terms\n",
    "# inclusions = [['soil transmitted helminth'], ['surveillance'], ['prevalence']]\n",
    "# exclusions = [['protein'], ['subcortical']]\n",
    "\n",
    "# Add the inclusion and exclusions\n",
    "# base.add_terms(inclusions, 'inclusions')\n",
    "# base.add_terms(exclusions, 'exclusions')"
   ]
  },
  {
   "cell_type": "code",
   "execution_count": 22,
   "metadata": {},
   "outputs": [
    {
     "name": "stdout",
     "output_type": "stream",
     "text": [
      "List of terms used: \n",
      "\n",
      "roundworm  : roundworm, Ascaris lumbricoides, Ascariasis\n",
      "whipworm   : whipworm, Trichuris, trichiura\n",
      "hookworm   : hookworm, Nector, americanus, Ancylostoma, duodenale\n"
     ]
    }
   ],
   "source": [
    "# Check the loaded terms\n",
    "base.check_terms()"
   ]
  },
  {
   "cell_type": "code",
   "execution_count": 23,
   "metadata": {},
   "outputs": [],
   "source": [
    "# # Check inclusion & exclusion words\n",
    "# base.check_terms('inclusions')\n",
    "# print('\\n')\n",
    "# base.check_terms('exclusions')"
   ]
  },
  {
   "cell_type": "markdown",
   "metadata": {},
   "source": [
    "### Labels\n",
    "\n",
    "Since search terms can have multiple components, LISC also creates and uses 'labels'\n",
    "for each search term.\n",
    "\n",
    "By default, the label for each term is defined as the first word in the search term list.\n",
    "Custom labels can also be added to the object.\n",
    "\n",
    "\n"
   ]
  },
  {
   "cell_type": "code",
   "execution_count": 24,
   "metadata": {},
   "outputs": [
    {
     "data": {
      "text/plain": [
       "['roundworm', 'whipworm', 'hookworm']"
      ]
     },
     "execution_count": 24,
     "metadata": {},
     "output_type": "execute_result"
    }
   ],
   "source": [
    "# Check the label for the current terms\n",
    "base.labels"
   ]
  },
  {
   "cell_type": "markdown",
   "metadata": {},
   "source": [
    "### Check Full Search Terms\n",
    "\n",
    "If you want to check what the full search term will be, the :meth:`~.Base.make_search_term`\n",
    "can be used to create the combined term.\n",
    "\n",
    "Note that terms can be accessed using either their index or their label.\n",
    "\n",
    "\n"
   ]
  },
  {
   "cell_type": "code",
   "execution_count": 25,
   "metadata": {},
   "outputs": [
    {
     "name": "stdout",
     "output_type": "stream",
     "text": [
      "(\"roundworm\"OR\"Ascaris+lumbricoides\"OR\"Ascariasis\")\n",
      "(\"whipworm\"OR\"Trichuris\"OR\"trichiura\")\n"
     ]
    }
   ],
   "source": [
    "# Print out the full search terms\n",
    "print(base.make_search_term(0))\n",
    "print(base.make_search_term('whipworm'))"
   ]
  },
  {
   "cell_type": "markdown",
   "metadata": {},
   "source": [
    "### LISC Objects\n",
    "\n",
    "Though LISC offers an object-oriented approach, all the core procedures used for\n",
    "collecting and analyzing data are implemented and available as stand-alone functions.\n",
    "\n",
    "The objects serve primarily to help organize the data and support common analyses.\n",
    "\n",
    "If you prefer, you can use the functions directly, which may be useful for custom\n",
    "analyses. To see examples of using the function, see the Examples page.\n",
    "\n",
    "\n"
   ]
  },
  {
   "cell_type": "markdown",
   "metadata": {},
   "source": [
    "## Database Management\n",
    "\n",
    "When collecting and analyzing the scientific literature, there can be a lot of data,\n",
    "and therefore a lot of files, to keep track of.\n",
    "\n",
    "To address this, LISC proposes a database structure for organizing collected data.\n",
    "\n",
    "Using this structure is not required to use LISC, but if you do use it, then LISC functions\n",
    "and objects can automatically load and save files to a known and organized output structure.\n",
    "\n",
    "In some of the example, you will see the :class:`~.SCDB` database object, which\n",
    "stores the organization for a LISC database.\n",
    "\n",
    "\n"
   ]
  },
  {
   "cell_type": "code",
   "execution_count": 26,
   "metadata": {},
   "outputs": [],
   "source": [
    "# Import a helper function to create a LISC file structure\n",
    "from lisc.utils.db import create_file_structure"
   ]
  },
  {
   "cell_type": "markdown",
   "metadata": {},
   "source": [
    "We can use :func:`~.create_file_structure` to create a LISC file structure.\n",
    "\n",
    "When called without any inputs, a database structure is created in the current directory.\n",
    "\n",
    "\n"
   ]
  },
  {
   "cell_type": "code",
   "execution_count": 27,
   "metadata": {},
   "outputs": [],
   "source": [
    "# Create a database file structure\n",
    "db = create_file_structure()"
   ]
  },
  {
   "cell_type": "code",
   "execution_count": 28,
   "metadata": {},
   "outputs": [
    {
     "name": "stdout",
     "output_type": "stream",
     "text": [
      "lisc_db/\n",
      "    terms/\n",
      "    logs/\n",
      "    figures/\n",
      "    data/\n",
      "        words/\n",
      "            raw/\n",
      "            summary/\n",
      "        counts/\n"
     ]
    }
   ],
   "source": [
    "# Check the file structure for the created database\n",
    "db.check_file_structure()"
   ]
  },
  {
   "cell_type": "code",
   "execution_count": null,
   "metadata": {},
   "outputs": [],
   "source": []
  }
 ],
 "metadata": {
  "kernelspec": {
   "display_name": "Python 3 (ipykernel)",
   "language": "python",
   "name": "python3"
  },
  "language_info": {
   "codemirror_mode": {
    "name": "ipython",
    "version": 3
   },
   "file_extension": ".py",
   "mimetype": "text/x-python",
   "name": "python",
   "nbconvert_exporter": "python",
   "pygments_lexer": "ipython3",
   "version": "3.9.8"
  }
 },
 "nbformat": 4,
 "nbformat_minor": 1
}
