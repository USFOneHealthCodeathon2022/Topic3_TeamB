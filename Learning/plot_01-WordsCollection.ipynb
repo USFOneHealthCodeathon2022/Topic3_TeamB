{
 "cells": [
  {
   "cell_type": "code",
   "execution_count": 1,
   "metadata": {},
   "outputs": [],
   "source": [
    "%matplotlib inline"
   ]
  },
  {
   "cell_type": "markdown",
   "metadata": {},
   "source": [
    "\n",
    "# Tutorial 01: Words Collection\n",
    "\n",
    "Collecting literature data, including text and metadata for specified search terms.\n"
   ]
  },
  {
   "cell_type": "markdown",
   "metadata": {},
   "source": [
    "## Words Analysis\n",
    "\n",
    "The 'Words' approach collects text and meta-data from articles found for requested search terms.\n",
    "\n",
    "\n"
   ]
  },
  {
   "cell_type": "code",
   "execution_count": 2,
   "metadata": {},
   "outputs": [],
   "source": [
    "# Import the Words object, which is used for words collection\n",
    "from lisc import Words\n",
    "\n",
    "# Import the SCDB object, which organizes a database structure for saved data\n",
    "from lisc.utils.db import SCDB\n",
    "\n",
    "# Import a utility function for saving out collected data\n",
    "from lisc.utils.io import save_object\n",
    "\n",
    "\n",
    "\n",
    "\n",
    "# Import the custom objects that are used to store collected words data\n",
    "from lisc.data import Articles, ArticlesAll\n",
    "\n",
    "# Import database and IO utilities to reload our previously collected data\n",
    "from lisc.utils.db import SCDB\n",
    "from lisc.utils.io import load_object\n",
    "\n",
    "# Import plots that are available for words data\n",
    "from lisc.plts.words import plot_wordcloud\n",
    "\n",
    "import scispacy\n",
    "import spacy\n",
    "nlp = spacy.load(\"en_ner_bionlp13cg_md\")\n",
    "\n",
    "\n",
    "\n",
    "import matplotlib.pyplot as plt\n",
    "from wordcloud import WordCloud\n",
    "\n",
    "\n",
    "import pandas as pd"
   ]
  },
  {
   "cell_type": "markdown",
   "metadata": {},
   "source": [
    "## Words Object\n",
    "\n",
    "The :class:`~.Words` object is used to collect and analyze text data and article metadata.\n",
    "\n",
    "Search terms are specified, as previously introduced, to find articles of interest,\n",
    "from which text data and meta-data is collected.\n",
    "\n",
    "\n"
   ]
  },
  {
   "cell_type": "code",
   "execution_count": 3,
   "metadata": {},
   "outputs": [],
   "source": [
    "# Set some search terms\n",
    "terms = [['roundworm','Ascaris lumbricoides', 'Ascariasis'], ['whipworm','Trichuris', 'trichiura'], \n",
    "         ['hookworm','Nector', 'americanus', 'Ancylostoma', 'duodenale']]"
   ]
  },
  {
   "cell_type": "code",
   "execution_count": 4,
   "metadata": {},
   "outputs": [],
   "source": [
    "# Initialize Words object and set the terms to search for\n",
    "words = Words()\n",
    "words.add_terms(terms)\n",
    "\n",
    "infant_grp = ['infant', 'infants']\n",
    "child_grp = ['child', 'children']\n",
    "adult_grp = ['adult', 'adults']\n",
    "\n",
    "\n",
    "age_group_in = infant_grp\n",
    "age_group_ex = adult_grp+child_grp\n",
    "\n",
    "age_grp = \"infant\"\n",
    "\n",
    "term_list = [\"roundworm\", \"whipworm\", \"hookworm\"]\n",
    "\n",
    "symptoms_list = ['anaemia', 'diarrhoea', \"cough\", \"eosinophilic\",\n",
    "                 \"loeffler\", \"hepatopancreatic\", \"dyspnoea\", \"haemoptysis\", \"wakana\", \n",
    "                 \"asthenia\", \"abdominal\", \"pain\", \"oedema\", \"occult\", \"faecal\", \"blood\", \n",
    "                 \"melaena\", \"appetite\", \"gastrointestinal\", \"bleeding\", \n",
    "                 \"bowel\", \"obstruction\", \"volvulus\", \"intussusception\", \"peritonitis\", \n",
    "                 \"gastric\", \"rectal\", \"prolapse\", \"microbiome\", \"microbiota\", \"gut\", \n",
    "                \"metabolites\", \"anemia\", \"intestinal\", \"growth\", \"faltering\", \n",
    "                \"vomit\", \"volmiting\", \"cholangitis\", \"pancreatitis\", \"anorexia\", \"gall\", \"gallbladder\", \n",
    "                \"bladder\", \"cough\", \"cancer\", \"developmental\", \"hyperactivity\"]\n",
    "\n",
    "geography_list = [\"africa\", \"america\", \"asia\"]\n",
    "\n",
    "microbiome_list = [\"bacteriodes\",\"fermicutes\", \"proteobacteria\", \"actinobacteria\", \n",
    "                  \"oscillibacter\", \"flavonifractor\", \"butyrivibrio\", \"allobaculum\", \n",
    "                   \"solobacterium\", \"lactobacillus\", \"campylobacter\", \"heligmosomoides\"]\n",
    "\n",
    "immune_list = [\"immunity\", \"inflammation\", \"allergy\", \n",
    "               \"chronicity\",   \"Tregs\", \"Th2\", \"IL33\", \"IL25\",  \"cytokines\", \"protection\", \n",
    "               \"vaccines\", \"benefits\", \"IgE\", \"eosinophils\", \"sensitization\"]\n",
    "\n",
    "inclustion_terms = ['symptoms', 'symptom'] + age_group_in\n",
    "exclustion_terms = age_group_ex\n",
    "\n",
    "# Set up inclusions and exclusions\n",
    "#   Each is a list, that should be the same length as the number of terms\n",
    "inclusions = [inclustion_terms, \n",
    "              inclustion_terms, \n",
    "              inclustion_terms]\n",
    "exclusions = [exclustion_terms, \n",
    "              exclustion_terms, \n",
    "              exclustion_terms]"
   ]
  },
  {
   "cell_type": "code",
   "execution_count": 5,
   "metadata": {},
   "outputs": [],
   "source": [
    "num_article = 100\n",
    "chosen_list = symptoms_list"
   ]
  },
  {
   "cell_type": "markdown",
   "metadata": {},
   "source": [
    "To get started, we will first run a collection of words data, collecting up to\n",
    "5 articles for each search term, as specified by the `retmax` parameter.\n",
    "\n",
    "\n"
   ]
  },
  {
   "cell_type": "code",
   "execution_count": 6,
   "metadata": {},
   "outputs": [],
   "source": [
    "# Collect words data\n",
    "words.run_collection(retmax=num_article)"
   ]
  },
  {
   "cell_type": "code",
   "execution_count": 7,
   "metadata": {},
   "outputs": [],
   "source": [
    "# Set up our database object, so we can save out data as we go\n",
    "db = SCDB('lisc_db')\n",
    "\n",
    "# Collect words data\n",
    "words.run_collection(usehistory=True, retmax=num_article, save_and_clear=True, directory=db)\n",
    "\n",
    "# Save out the words data\n",
    "save_object(words, 'tutorial_words', directory=db)"
   ]
  },
  {
   "cell_type": "code",
   "execution_count": 9,
   "metadata": {},
   "outputs": [],
   "source": [
    "# Import the custom objects that are used to store collected words data\n",
    "from lisc.data import Articles, ArticlesAll\n",
    "\n",
    "# Import database and IO utilities to reload our previously collected data\n",
    "from lisc.utils.db import SCDB\n",
    "from lisc.utils.io import load_object\n",
    "\n",
    "# Import plots that are available for words data\n",
    "from lisc.plts.words import plot_wordcloud\n",
    "\n",
    "import scispacy\n",
    "import spacy\n",
    "nlp = spacy.load(\"en_ner_bionlp13cg_md\")"
   ]
  },
  {
   "cell_type": "code",
   "execution_count": 10,
   "metadata": {},
   "outputs": [],
   "source": [
    "# Reload the words object, specifying to also reload the article data\n",
    "words = load_object('tutorial_words', directory=SCDB('lisc_db'), reload_results=True)"
   ]
  },
  {
   "cell_type": "code",
   "execution_count": 11,
   "metadata": {},
   "outputs": [],
   "source": [
    "# Preprocess article data\n",
    "words.process_articles()\n",
    "\n",
    "# Process collected data into aggregated data objects\n",
    "words.process_combined_results()"
   ]
  },
  {
   "cell_type": "code",
   "execution_count": 12,
   "metadata": {},
   "outputs": [
    {
     "name": "stdout",
     "output_type": "stream",
     "text": [
      "---------------------------------- roundworm ------- ['infant', 'infants']\n",
      "developmental - 3 [  ]\n",
      "gastrointestinal - 3 [  ]\n",
      "faecal - 4 [  ]\n",
      "intestinal - 58 [  ]\n",
      "blood - 12 [ ORGANISM_SUBSTANCE ]\n",
      "bowel - 8 [ ORGAN ]\n",
      "abdominal - 5 [  ]\n",
      "pain - 4 [  ]\n",
      "anaemia - 3 [  ]\n",
      "anemia - 8 [  ]\n",
      "growth - 4 [  ]\n",
      "gall - 2 [  ]\n",
      "bladder - 7 [ ORGAN ]\n",
      "volvulus - 2 [  ]\n",
      "obstruction - 4 [  ]\n",
      "gut - 2 [ ORGANISM_SUBDIVISION ]\n",
      "cancer - 2 [ CANCER ]\n",
      "\n",
      "\n",
      "---------------------------------- whipworm ------- ['infant', 'infants']\n",
      "intestinal - 55 [  ]\n",
      "faecal - 24 [  ]\n",
      "gastrointestinal - 35 [  ]\n",
      "growth - 2 [  ]\n",
      "gut - 12 [ ORGANISM_SUBDIVISION ]\n",
      "blood - 11 [ ORGANISM_SUBSTANCE ]\n",
      "anemia - 14 [  ]\n",
      "developmental - 4 [  ]\n",
      "cancer - 2 [ CANCER ]\n",
      "anaemia - 1 [  ]\n",
      "volvulus - 1 [  ]\n",
      "\n",
      "\n",
      "---------------------------------- hookworm ------- ['infant', 'infants']\n",
      "intestinal - 33 [  ]\n",
      "faecal - 8 [  ]\n",
      "anaemia - 2 [  ]\n",
      "gastrointestinal - 9 [  ]\n",
      "growth - 8 [  ]\n",
      "anemia - 13 [  ]\n",
      "blood - 11 [ ORGANISM_SUBSTANCE ]\n",
      "cancer - 2 [ CANCER ]\n",
      "volvulus - 1 [  ]\n",
      "bowel - 1 [ ORGAN ]\n",
      "\n",
      "\n"
     ]
    }
   ],
   "source": [
    "words_list = []\n",
    "\n",
    "for num in range(0,3):\n",
    "    words_dict = {}\n",
    "    print(\"----------------------------------\", term_list[num],\"-------\",age_group_in)\n",
    "    for i in words.combined_results[num].words:\n",
    "        doc = nlp(i)\n",
    "        for token in doc:\n",
    "            if(token.pos_ == \"NOUN\" or token.pos_ == \"ADJ\"):\n",
    "                if(words.combined_results[0].words[i] > 1 and i in chosen_list):\n",
    "                    print(i, \"-\", words.combined_results[num].words[i], \"[\", token.ent_type_,\"]\")\n",
    "                    words_dict[i] = words.combined_results[num].words[i]\n",
    "    \n",
    "    words_list.append(words_dict)\n",
    "                    \n",
    "    print()\n",
    "    print()\n",
    "                    "
   ]
  },
  {
   "cell_type": "code",
   "execution_count": 14,
   "metadata": {},
   "outputs": [
    {
     "name": "stderr",
     "output_type": "stream",
     "text": [
      "[0301/152431.571992:INFO:headless_shell.cc(659)] Written to file /var/folders/xq/jzjdx561799bjvdt3yh9jprr0000gn/T/tmp2cqq90by/temp.png.\n",
      "[0301/152432.906077:INFO:headless_shell.cc(659)] Written to file /var/folders/xq/jzjdx561799bjvdt3yh9jprr0000gn/T/tmpxzpxclra/temp.png.\n",
      "[0301/152434.241094:INFO:headless_shell.cc(659)] Written to file /var/folders/xq/jzjdx561799bjvdt3yh9jprr0000gn/T/tmpr99nzn1r/temp.png.\n"
     ]
    },
    {
     "data": {
      "image/png": "[encoded data removed]",
      "text/plain": [
       "<Figure size 432x288 with 1 Axes>"
      ]
     },
     "metadata": {
      "needs_background": "light"
     },
     "output_type": "display_data"
    }
   ],
   "source": [
    "import pandas as pd\n",
    "import dataframe_image as dfi\n",
    "\n",
    "for i in range(0,3):\n",
    "    data_items = words_list[i].items()\n",
    "    data_list = list(data_items)\n",
    "    df = pd.DataFrame(data_list)\n",
    "    \n",
    "    dfi.export(df, 'img/{}_dataframe_{}.png'.format(age_grp,term_list[i]))\n",
    "    \n",
    "    wordcloud = WordCloud(max_font_size=50, max_words=100, background_color=\"white\")\n",
    "    wordcloud.generate_from_frequencies(frequencies=words_list[i])\n",
    "    \n",
    "#     plt.figure()\n",
    "    plt.imshow(wordcloud, interpolation=\"bilinear\")\n",
    "    plt.axis(\"off\")\n",
    "    wordcloud.to_file(\"img/{}_word_clouds_{}.png\".format(age_grp,term_list[i]))\n",
    "\n"
   ]
  },
  {
   "cell_type": "code",
   "execution_count": null,
   "metadata": {},
   "outputs": [],
   "source": []
  },
  {
   "cell_type": "code",
   "execution_count": null,
   "metadata": {},
   "outputs": [],
   "source": []
  },
  {
   "cell_type": "code",
   "execution_count": null,
   "metadata": {},
   "outputs": [],
   "source": []
  },
  {
   "cell_type": "code",
   "execution_count": null,
   "metadata": {},
   "outputs": [],
   "source": []
  }
 ],
 "metadata": {
  "kernelspec": {
   "display_name": "Python 3 (ipykernel)",
   "language": "python",
   "name": "python3"
  },
  "language_info": {
   "codemirror_mode": {
    "name": "ipython",
    "version": 3
   },
   "file_extension": ".py",
   "mimetype": "text/x-python",
   "name": "python",
   "nbconvert_exporter": "python",
   "pygments_lexer": "ipython3",
   "version": "3.9.8"
  }
 },
 "nbformat": 4,
 "nbformat_minor": 1
}
