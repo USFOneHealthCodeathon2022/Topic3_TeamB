{
 "cells": [
  {
   "cell_type": "code",
   "execution_count": null,
   "metadata": {},
   "outputs": [],
   "source": [
    "%matplotlib inline"
   ]
  },
  {
   "cell_type": "markdown",
   "metadata": {},
   "source": [
    "\n",
    "# Tutorial 01: Words Collection\n",
    "\n",
    "Collecting literature data, including text and metadata for specified search terms.\n"
   ]
  },
  {
   "cell_type": "markdown",
   "metadata": {},
   "source": [
    "## Words Analysis\n",
    "\n",
    "The 'Words' approach collects text and meta-data from articles found for requested search terms.\n",
    "\n",
    "\n"
   ]
  },
  {
   "cell_type": "code",
   "execution_count": 1,
   "metadata": {},
   "outputs": [],
   "source": [
    "# Import the Words object, which is used for words collection\n",
    "from lisc import Words\n",
    "\n",
    "# Import the SCDB object, which organizes a database structure for saved data\n",
    "from lisc.utils.db import SCDB\n",
    "\n",
    "# Import a utility function for saving out collected data\n",
    "from lisc.utils.io import save_object"
   ]
  },
  {
   "cell_type": "markdown",
   "metadata": {},
   "source": [
    "## Words Object\n",
    "\n",
    "The :class:`~.Words` object is used to collect and analyze text data and article metadata.\n",
    "\n",
    "Search terms are specified, as previously introduced, to find articles of interest,\n",
    "from which text data and meta-data is collected.\n",
    "\n",
    "\n"
   ]
  },
  {
   "cell_type": "code",
   "execution_count": 2,
   "metadata": {},
   "outputs": [],
   "source": [
    "# Set some search terms\n",
    "terms = [['Ascaris', 'Ascariasis', 'roundworm']]"
   ]
  },
  {
   "cell_type": "code",
   "execution_count": 3,
   "metadata": {},
   "outputs": [],
   "source": [
    "# Initialize Words object and set the terms to search for\n",
    "words = Words()\n",
    "words.add_terms(terms)"
   ]
  },
  {
   "cell_type": "markdown",
   "metadata": {},
   "source": [
    "To get started, we will first run a collection of words data, collecting up to\n",
    "5 articles for each search term, as specified by the `retmax` parameter.\n",
    "\n",
    "\n"
   ]
  },
  {
   "cell_type": "code",
   "execution_count": 4,
   "metadata": {},
   "outputs": [],
   "source": [
    "# Collect words data\n",
    "words.run_collection(retmax=5)"
   ]
  },
  {
   "cell_type": "markdown",
   "metadata": {},
   "source": [
    "### LISC Data Objects\n",
    "\n",
    "LISC uses custom objects to store collected words data.\n",
    "\n",
    "The :obj:`~.Articles` object stores data for each collected article.\n",
    "\n",
    "Collected data includes:\n",
    "\n",
    "- titles\n",
    "- journals\n",
    "- authors\n",
    "- publication years\n",
    "- abstract text\n",
    "- keywords\n",
    "- DOIs\n",
    "\n",
    "\n"
   ]
  },
  {
   "cell_type": "code",
   "execution_count": 5,
   "metadata": {},
   "outputs": [
    {
     "name": "stdout",
     "output_type": "stream",
     "text": [
      "[<lisc.data.articles.Articles object at 0x1110ae2e0>]\n"
     ]
    }
   ],
   "source": [
    "# Check the collected words data\n",
    "print(words.results)"
   ]
  },
  {
   "cell_type": "code",
   "execution_count": 6,
   "metadata": {},
   "outputs": [
    {
     "name": "stdout",
     "output_type": "stream",
     "text": [
      "5\n",
      "['Soil-Transmitted Helminthic Infections and Geophagia among Pregnant Women in Jimma Town Health Institutions, Southwest Ethiopia.', 'Seasonal Patterns of Enteric Pathogens in Colombian Indigenous People-A More Pronounced Effect on Bacteria Than on Parasites.', 'Neglected Diseases-Parasitic Infections among Slovakian Children from Different Populations and Genotypes of Giardia duodenalis.', 'Helminth products modulate innate immune recognition of nucleic acids in systemic lupus erythematosus.', 'Concurrent allergy and helminthiasis in underprivileged urban South African adults previously residing in rural areas.']\n"
     ]
    }
   ],
   "source": [
    "# Check some specific fields of the collected data\n",
    "print(words.results[0].n_articles)\n",
    "print(words.results[0].titles)"
   ]
  },
  {
   "cell_type": "markdown",
   "metadata": {},
   "source": [
    "## Word Collections\n",
    "\n",
    "Collected words data from articles can become quite large. We will often want to use\n",
    "some of the available EUtils settings to help control what is collected, and how the data\n",
    "collection proceeds.\n",
    "\n",
    "In the next example, we'll revisit the same search terms we used in the previous\n",
    "co-occurence analysis, and explore some of these settings.\n",
    "\n",
    "\n"
   ]
  },
  {
   "cell_type": "code",
   "execution_count": null,
   "metadata": {},
   "outputs": [],
   "source": [
    "# Set search terms of interest\n",
    "terms = [['frontal lobe'], ['temporal lobe'], ['parietal lobe'], ['occipital lobe']]\n",
    "words.add_terms(terms)"
   ]
  },
  {
   "cell_type": "markdown",
   "metadata": {},
   "source": [
    "### EUtils Settings\n",
    "\n",
    "The Pubmed EUtils has several settings that can help control searches, including:\n",
    "\n",
    "- `field` : which part of the record to search for search results\n",
    "- `retmax` : the maximum number of records to return for a given search\n",
    "- `usehistory` : whether to temporarily store results remotely and use them for interim requests\n",
    "\n",
    "For some general guidelines:\n",
    "\n",
    "- the `field` setting defaults to `TIAB` for titles and abstracts\n",
    "- the `retmax` should be set to an upper bound for the number of articles you would like\n",
    "  to collect, especially if your search terms are likely to return a large number of articles\n",
    "- the `usehistory` parameter should be set to True if you are running a large collection,\n",
    "  as this is more efficient\n",
    "\n",
    "### Word Collection Settings\n",
    "\n",
    "For larger collections, the collectio my take a while and return a large amount of data.\n",
    "\n",
    "Because of this, the :class:`~.Words` object allows for continuously saving collected data.\n",
    "If set to True, the `save_and_clear` parameter saves out collected data, and clears the\n",
    "object per term, so that collected data does not have to stay in RAM.\n",
    "\n",
    "Now, let's run our bigger collection, using some of these settings.\n",
    "\n",
    "\n"
   ]
  },
  {
   "cell_type": "code",
   "execution_count": null,
   "metadata": {},
   "outputs": [],
   "source": [
    "# Set up our database object, so we can save out data as we go\n",
    "db = SCDB('lisc_db')\n",
    "\n",
    "# Collect words data\n",
    "words.run_collection(usehistory=True, retmax=15, save_and_clear=True, directory=db)"
   ]
  },
  {
   "cell_type": "markdown",
   "metadata": {},
   "source": [
    "After this collection, the Words object does not actually include the collected data,\n",
    "as the data was saved and cleared throughout the collection.\n",
    "\n",
    "The Words object does still have all the information about the search terms, which we can\n",
    "use to reload our data, so it is still worth saving as well.\n",
    "\n",
    "We will analyze our words data in the next tutorial. For now lets save out the Words object.\n",
    "\n",
    "\n"
   ]
  },
  {
   "cell_type": "code",
   "execution_count": null,
   "metadata": {},
   "outputs": [],
   "source": [
    "# Save out the words data\n",
    "save_object(words, 'tutorial_words', directory=db)"
   ]
  }
 ],
 "metadata": {
  "kernelspec": {
   "display_name": "Python 3 (ipykernel)",
   "language": "python",
   "name": "python3"
  },
  "language_info": {
   "codemirror_mode": {
    "name": "ipython",
    "version": 3
   },
   "file_extension": ".py",
   "mimetype": "text/x-python",
   "name": "python",
   "nbconvert_exporter": "python",
   "pygments_lexer": "ipython3",
   "version": "3.9.8"
  }
 },
 "nbformat": 4,
 "nbformat_minor": 1
}
