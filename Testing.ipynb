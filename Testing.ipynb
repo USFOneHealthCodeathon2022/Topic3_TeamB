{
 "cells": [
  {
   "cell_type": "code",
   "execution_count": 8,
   "id": "c40b19b7",
   "metadata": {},
   "outputs": [
    {
     "name": "stdout",
     "output_type": "stream",
     "text": [
      "token          | pos   | label  | parent  \n",
      "An             | DET   |        | allograft\n",
      "allograft      | NOUN  | ORGAN  | used    \n",
      "was            | VERB  |        | used    \n",
      "used           | VERB  |        | used    \n",
      "to             | PART  |        | recreate\n",
      "recreate       | VERB  |        | used    \n",
      "the            | DET   |        | ligaments\n",
      "coracoacromial | ADJ   | ORGAN  | ligaments\n",
      "anemia         | NOUN  |        | ligaments\n",
      "ligaments      | NOUN  |        | recreate\n",
      "and            | CCONJ |        | recreate\n",
      "then           | ADV   |        | secured \n",
      "secured        | VERB  |        | recreate\n",
      "to             | PART  |        | decorticate\n",
      "decorticate    | VERB  |        | secured \n",
      "with           | ADP   |        | screw   \n",
      "a              | DET   |        | screw   \n",
      "bioabsorbable  | ADJ   |        | screw   \n",
      "tenodesis      | NOUN  |        | screw   \n",
      "screw          | NOUN  |        | secured \n",
      "and            | CCONJ |        | secured \n",
      "then           | ADV   |        | clavicle\n",
      "to             | ADP   |        | clavicle\n",
      "the            | DET   |        | clavicle\n",
      "clavicle       | NOUN  | ORGAN  | secured \n",
      ".              | PUNCT |        | used    \n"
     ]
    }
   ],
   "source": [
    "import scispacy\n",
    "import spacy\n",
    "nlp = spacy.load(\"en_ner_bionlp13cg_md\")\n",
    "doc = nlp(\"An allograft was used to recreate the coracoacromial anemia ligaments and then secured to decorticate with a bioabsorbable tenodesis screw and then to the clavicle.\")\n",
    "fmt_str = \"{:<15}| {:<6}| {:<7}| {:<8}\"\n",
    "print(fmt_str.format(\"token\", \"pos\", \"label\", \"parent\"))\n",
    "for token in doc:\n",
    "    print(fmt_str.format(token.text, token.pos_, token.ent_type_, token.head.text))\n"
   ]
  },
  {
   "cell_type": "code",
   "execution_count": null,
   "id": "e135d6d3",
   "metadata": {},
   "outputs": [],
   "source": []
  }
 ],
 "metadata": {
  "kernelspec": {
   "display_name": "Python 3 (ipykernel)",
   "language": "python",
   "name": "python3"
  },
  "language_info": {
   "codemirror_mode": {
    "name": "ipython",
    "version": 3
   },
   "file_extension": ".py",
   "mimetype": "text/x-python",
   "name": "python",
   "nbconvert_exporter": "python",
   "pygments_lexer": "ipython3",
   "version": "3.9.8"
  }
 },
 "nbformat": 4,
 "nbformat_minor": 5
}
